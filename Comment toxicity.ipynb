{
 "cells": [
  {
   "cell_type": "code",
   "execution_count": 2,
   "id": "81ea560a",
   "metadata": {},
   "outputs": [],
   "source": [
    "import os \n",
    "import pandas as pd \n",
    "import numpy as np \n",
    "import tensorflow as tf\n",
    "from tensorflow.keras.layers import TextVectorization\n",
    "from tensorflow.keras.models import Sequential \n",
    "from tensorflow.keras.layers import LSTM , Dropout , Bidirectional , Dense ,Embedding\n",
    "\n",
    "\n"
   ]
  },
  {
   "cell_type": "markdown",
   "id": "8e7adbab",
   "metadata": {},
   "source": [
    "**Importing the data:**"
   ]
  },
  {
   "cell_type": "code",
   "execution_count": 3,
   "id": "b9929648",
   "metadata": {},
   "outputs": [],
   "source": [
    "df = pd.read_csv('comments.csv')"
   ]
  },
  {
   "cell_type": "code",
   "execution_count": 4,
   "id": "51f86884",
   "metadata": {},
   "outputs": [
    {
     "data": {
      "text/html": [
       "<div>\n",
       "<style scoped>\n",
       "    .dataframe tbody tr th:only-of-type {\n",
       "        vertical-align: middle;\n",
       "    }\n",
       "\n",
       "    .dataframe tbody tr th {\n",
       "        vertical-align: top;\n",
       "    }\n",
       "\n",
       "    .dataframe thead th {\n",
       "        text-align: right;\n",
       "    }\n",
       "</style>\n",
       "<table border=\"1\" class=\"dataframe\">\n",
       "  <thead>\n",
       "    <tr style=\"text-align: right;\">\n",
       "      <th></th>\n",
       "      <th>id</th>\n",
       "      <th>comment_text</th>\n",
       "      <th>toxic</th>\n",
       "      <th>severe_toxic</th>\n",
       "      <th>obscene</th>\n",
       "      <th>threat</th>\n",
       "      <th>insult</th>\n",
       "      <th>identity_hate</th>\n",
       "    </tr>\n",
       "  </thead>\n",
       "  <tbody>\n",
       "    <tr>\n",
       "      <th>0</th>\n",
       "      <td>0000997932d777bf</td>\n",
       "      <td>Explanation\\nWhy the edits made under my usern...</td>\n",
       "      <td>0</td>\n",
       "      <td>0</td>\n",
       "      <td>0</td>\n",
       "      <td>0</td>\n",
       "      <td>0</td>\n",
       "      <td>0</td>\n",
       "    </tr>\n",
       "    <tr>\n",
       "      <th>1</th>\n",
       "      <td>000103f0d9cfb60f</td>\n",
       "      <td>D'aww! He matches this background colour I'm s...</td>\n",
       "      <td>0</td>\n",
       "      <td>0</td>\n",
       "      <td>0</td>\n",
       "      <td>0</td>\n",
       "      <td>0</td>\n",
       "      <td>0</td>\n",
       "    </tr>\n",
       "    <tr>\n",
       "      <th>2</th>\n",
       "      <td>000113f07ec002fd</td>\n",
       "      <td>Hey man, I'm really not trying to edit war. It...</td>\n",
       "      <td>0</td>\n",
       "      <td>0</td>\n",
       "      <td>0</td>\n",
       "      <td>0</td>\n",
       "      <td>0</td>\n",
       "      <td>0</td>\n",
       "    </tr>\n",
       "    <tr>\n",
       "      <th>3</th>\n",
       "      <td>0001b41b1c6bb37e</td>\n",
       "      <td>\"\\nMore\\nI can't make any real suggestions on ...</td>\n",
       "      <td>0</td>\n",
       "      <td>0</td>\n",
       "      <td>0</td>\n",
       "      <td>0</td>\n",
       "      <td>0</td>\n",
       "      <td>0</td>\n",
       "    </tr>\n",
       "    <tr>\n",
       "      <th>4</th>\n",
       "      <td>0001d958c54c6e35</td>\n",
       "      <td>You, sir, are my hero. Any chance you remember...</td>\n",
       "      <td>0</td>\n",
       "      <td>0</td>\n",
       "      <td>0</td>\n",
       "      <td>0</td>\n",
       "      <td>0</td>\n",
       "      <td>0</td>\n",
       "    </tr>\n",
       "  </tbody>\n",
       "</table>\n",
       "</div>"
      ],
      "text/plain": [
       "                 id                                       comment_text  toxic  \\\n",
       "0  0000997932d777bf  Explanation\\nWhy the edits made under my usern...      0   \n",
       "1  000103f0d9cfb60f  D'aww! He matches this background colour I'm s...      0   \n",
       "2  000113f07ec002fd  Hey man, I'm really not trying to edit war. It...      0   \n",
       "3  0001b41b1c6bb37e  \"\\nMore\\nI can't make any real suggestions on ...      0   \n",
       "4  0001d958c54c6e35  You, sir, are my hero. Any chance you remember...      0   \n",
       "\n",
       "   severe_toxic  obscene  threat  insult  identity_hate  \n",
       "0             0        0       0       0              0  \n",
       "1             0        0       0       0              0  \n",
       "2             0        0       0       0              0  \n",
       "3             0        0       0       0              0  \n",
       "4             0        0       0       0              0  "
      ]
     },
     "execution_count": 4,
     "metadata": {},
     "output_type": "execute_result"
    }
   ],
   "source": [
    "df.head()"
   ]
  },
  {
   "cell_type": "code",
   "execution_count": 7,
   "id": "ff25a399",
   "metadata": {},
   "outputs": [
    {
     "data": {
      "text/plain": [
       "\"Hey man, I'm really not trying to edit war. It's just that this guy is constantly removing relevant information and talking to me through edits instead of my talk page. He seems to care more about the formatting than the actual info.\""
      ]
     },
     "execution_count": 7,
     "metadata": {},
     "output_type": "execute_result"
    }
   ],
   "source": [
    "df.iloc[2]['comment_text']"
   ]
  },
  {
   "cell_type": "code",
   "execution_count": 8,
   "id": "7cc324c7",
   "metadata": {},
   "outputs": [
    {
     "data": {
      "text/plain": [
       "toxic            1\n",
       "severe_toxic     1\n",
       "obscene          1\n",
       "threat           0\n",
       "insult           1\n",
       "identity_hate    0\n",
       "Name: 6, dtype: int64"
      ]
     },
     "execution_count": 8,
     "metadata": {},
     "output_type": "execute_result"
    }
   ],
   "source": [
    "df[df.columns[2:]].iloc[6]"
   ]
  },
  {
   "cell_type": "markdown",
   "id": "23e99c89",
   "metadata": {},
   "source": [
    "**Preprocces:**"
   ]
  },
  {
   "cell_type": "code",
   "execution_count": 10,
   "id": "accfc70d",
   "metadata": {},
   "outputs": [],
   "source": [
    "from tensorflow.keras.layers import TextVectorization"
   ]
  },
  {
   "cell_type": "code",
   "execution_count": 11,
   "id": "b25499a7",
   "metadata": {},
   "outputs": [],
   "source": [
    "#Feature\n",
    "X = df['comment_text']\n",
    "\n",
    "#Labels\n",
    "y = df[df.columns[2:]].values\n",
    "\n"
   ]
  },
  {
   "cell_type": "code",
   "execution_count": 12,
   "id": "15bf5cd5",
   "metadata": {},
   "outputs": [],
   "source": [
    "MAX_WORDS = 200000 #nombre des mots "
   ]
  },
  {
   "cell_type": "code",
   "execution_count": 13,
   "id": "8757bf64",
   "metadata": {},
   "outputs": [],
   "source": [
    "vectorizer = TextVectorization(max_tokens = MAX_WORDS,\n",
    "                              output_sequence_length = 1800, \n",
    "                              output_mode = 'int')\n",
    "#output_sequence_length : max length of our sentence in token "
   ]
  },
  {
   "cell_type": "code",
   "execution_count": 14,
   "id": "377decd7",
   "metadata": {},
   "outputs": [],
   "source": [
    "vectorizer.adapt(X.values) "
   ]
  },
  {
   "cell_type": "code",
   "execution_count": 15,
   "id": "f91d9265",
   "metadata": {
    "scrolled": false
   },
   "outputs": [
    {
     "data": {
      "text/plain": [
       "<tf.Tensor: shape=(5,), dtype=int64, numpy=array([286, 261, 305,   9, 275], dtype=int64)>"
      ]
     },
     "execution_count": 15,
     "metadata": {},
     "output_type": "execute_result"
    }
   ],
   "source": [
    "vectorizer('Hello world , life is great')[:5]"
   ]
  },
  {
   "cell_type": "code",
   "execution_count": 16,
   "id": "9af736b0",
   "metadata": {},
   "outputs": [
    {
     "data": {
      "text/plain": [
       "<tf.Tensor: shape=(159571, 1800), dtype=int64, numpy=\n",
       "array([[  643,    76,     2, ...,     0,     0,     0],\n",
       "       [    1,    54,  2506, ...,     0,     0,     0],\n",
       "       [  425,   440,    70, ...,     0,     0,     0],\n",
       "       ...,\n",
       "       [32141,  7329,   383, ...,     0,     0,     0],\n",
       "       [    5,    12,   533, ...,     0,     0,     0],\n",
       "       [    5,     8,   130, ...,     0,     0,     0]], dtype=int64)>"
      ]
     },
     "execution_count": 16,
     "metadata": {},
     "output_type": "execute_result"
    }
   ],
   "source": [
    "vectorized_text = vectorizer(X.values)\n",
    "vectorized_text"
   ]
  },
  {
   "cell_type": "code",
   "execution_count": 17,
   "id": "efa47287",
   "metadata": {},
   "outputs": [],
   "source": [
    "dataset = tf.data.Dataset.from_tensor_slices((vectorized_text,y))\n",
    "dataset = dataset.cache()\n",
    "dataset = dataset.shuffle(160000)\n",
    "dataset = dataset.batch(16)\n",
    "dataset = dataset.prefetch(8) #helps bottlenecks "
   ]
  },
  {
   "cell_type": "code",
   "execution_count": 18,
   "id": "cf7e094d",
   "metadata": {},
   "outputs": [],
   "source": [
    "batchX , batchy = dataset.as_numpy_iterator().next()"
   ]
  },
  {
   "cell_type": "code",
   "execution_count": 19,
   "id": "1ec2a628",
   "metadata": {},
   "outputs": [],
   "source": [
    "train = dataset.take(int(len(dataset)*.7))\n",
    "\n",
    "val = dataset.skip(int(len(dataset)*.7)).take(int(len(dataset)*.2))\n",
    "\n",
    "test = dataset.skip(int(len(dataset)*.9)).take(int(len(dataset)*.1))\n",
    "                                              "
   ]
  },
  {
   "cell_type": "code",
   "execution_count": 20,
   "id": "0ce57566",
   "metadata": {},
   "outputs": [],
   "source": [
    "train_gen = train.as_numpy_iterator()"
   ]
  },
  {
   "cell_type": "code",
   "execution_count": 21,
   "id": "ad6ab6a8",
   "metadata": {},
   "outputs": [
    {
     "data": {
      "text/plain": [
       "(array([[   425,    651,     14, ...,      0,      0,      0],\n",
       "        [   170,      1,     41, ...,      0,      0,      0],\n",
       "        [   459,      4,  70704, ...,      0,      0,      0],\n",
       "        ...,\n",
       "        [  3071,    135,    361, ...,      0,      0,      0],\n",
       "        [ 91306,     28,    123, ...,      0,      0,      0],\n",
       "        [     3, 142611,      5, ...,      0,      0,      0]], dtype=int64),\n",
       " array([[0, 0, 0, 0, 0, 0],\n",
       "        [0, 0, 0, 0, 0, 0],\n",
       "        [0, 0, 0, 0, 0, 0],\n",
       "        [0, 0, 0, 0, 0, 0],\n",
       "        [0, 0, 0, 0, 0, 0],\n",
       "        [0, 0, 0, 0, 0, 0],\n",
       "        [0, 0, 0, 0, 0, 0],\n",
       "        [0, 0, 0, 0, 0, 0],\n",
       "        [0, 0, 0, 0, 0, 0],\n",
       "        [0, 0, 0, 0, 0, 0],\n",
       "        [0, 0, 0, 0, 0, 0],\n",
       "        [0, 0, 0, 0, 0, 0],\n",
       "        [0, 0, 0, 0, 0, 0],\n",
       "        [0, 0, 0, 0, 0, 0],\n",
       "        [0, 0, 0, 0, 0, 0],\n",
       "        [1, 0, 1, 0, 1, 0]], dtype=int64))"
      ]
     },
     "execution_count": 21,
     "metadata": {},
     "output_type": "execute_result"
    }
   ],
   "source": [
    "train_gen.next()"
   ]
  },
  {
   "cell_type": "markdown",
   "id": "f0416075",
   "metadata": {},
   "source": [
    "**Creating our squential Model:**"
   ]
  },
  {
   "cell_type": "code",
   "execution_count": 22,
   "id": "7550a70e",
   "metadata": {},
   "outputs": [],
   "source": [
    "from tensorflow.keras.models import Sequential \n",
    "from tensorflow.keras.layers import LSTM , Dropout , Bidirectional , Dense ,Embedding\n"
   ]
  },
  {
   "cell_type": "code",
   "execution_count": 23,
   "id": "d37a104c",
   "metadata": {},
   "outputs": [],
   "source": [
    "model = Sequential()\n",
    "\n",
    "#Create the embedding layer\n",
    "model.add(Embedding(MAX_WORDS +1,32))\n",
    "\n",
    "#Create the bidirectional LSTM layer  \n",
    "model.add(Bidirectional(LSTM(32,activation = 'tanh')))\n",
    " \n",
    "#feautre extractor fully connected layers\n",
    "model.add(Dense(128,activation = 'relu'))\n",
    "model.add(Dense(256,activation = 'relu'))\n",
    "model.add(Dense(128,activation = 'relu'))\n",
    "# final layer\n",
    "model.add(Dense(6,activation = 'sigmoid'))\n"
   ]
  },
  {
   "cell_type": "code",
   "execution_count": 24,
   "id": "1fdc207b",
   "metadata": {},
   "outputs": [],
   "source": [
    "model.compile(loss='BinaryCrossentropy', optimizer = 'Adam')\n"
   ]
  },
  {
   "cell_type": "code",
   "execution_count": 33,
   "id": "51752832",
   "metadata": {},
   "outputs": [
    {
     "name": "stdout",
     "output_type": "stream",
     "text": [
      "Model: \"sequential\"\n",
      "_________________________________________________________________\n",
      " Layer (type)                Output Shape              Param #   \n",
      "=================================================================\n",
      " embedding (Embedding)       (None, None, 32)          6400032   \n",
      "                                                                 \n",
      " bidirectional (Bidirectiona  (None, 64)               16640     \n",
      " l)                                                              \n",
      "                                                                 \n",
      " dense (Dense)               (None, 128)               8320      \n",
      "                                                                 \n",
      " dense_1 (Dense)             (None, 256)               33024     \n",
      "                                                                 \n",
      " dense_2 (Dense)             (None, 128)               32896     \n",
      "                                                                 \n",
      " dense_3 (Dense)             (None, 6)                 774       \n",
      "                                                                 \n",
      "=================================================================\n",
      "Total params: 6,491,686\n",
      "Trainable params: 6,491,686\n",
      "Non-trainable params: 0\n",
      "_________________________________________________________________\n"
     ]
    }
   ],
   "source": [
    "model.summary()"
   ]
  },
  {
   "cell_type": "markdown",
   "id": "438d546f",
   "metadata": {},
   "source": [
    "**The next fit of our model takes time ! for my case it takes 1h:30min**"
   ]
  },
  {
   "cell_type": "code",
   "execution_count": 28,
   "id": "5c1cfb96",
   "metadata": {},
   "outputs": [],
   "source": [
    "history = model.fit(train, epochs=1 , validation_data = val) ## IT TAKES TIME"
   ]
  },
  {
   "cell_type": "code",
   "execution_count": 29,
   "id": "86342525",
   "metadata": {},
   "outputs": [],
   "source": [
    "history.history"
   ]
  },
  {
   "cell_type": "markdown",
   "id": "4fcce9e4",
   "metadata": {},
   "source": [
    "**Testing some predictions:**"
   ]
  },
  {
   "cell_type": "code",
   "execution_count": 34,
   "id": "587d10f3",
   "metadata": {},
   "outputs": [],
   "source": [
    "input_text = vectorizer('I am going to kill you ')"
   ]
  },
  {
   "cell_type": "code",
   "execution_count": 35,
   "id": "d32c9a00",
   "metadata": {},
   "outputs": [],
   "source": [
    "batch = test.as_numpy_iterator().next()"
   ]
  },
  {
   "cell_type": "code",
   "execution_count": 33,
   "id": "dec3003e",
   "metadata": {},
   "outputs": [],
   "source": [
    "input_text"
   ]
  },
  {
   "cell_type": "code",
   "execution_count": 32,
   "id": "f2c2f15f",
   "metadata": {},
   "outputs": [],
   "source": [
    "result = model.predict(np.expand_dims(input_text,0))\n",
    "print(result*100)"
   ]
  },
  {
   "cell_type": "code",
   "execution_count": 31,
   "id": "9ef2c345",
   "metadata": {},
   "outputs": [],
   "source": [
    "df.columns[2:]"
   ]
  },
  {
   "cell_type": "markdown",
   "id": "90c40a20",
   "metadata": {},
   "source": [
    "**Evaluation of the model with some mesures:**"
   ]
  },
  {
   "cell_type": "code",
   "execution_count": 39,
   "id": "0ce1aa34",
   "metadata": {},
   "outputs": [],
   "source": [
    "#Evaluate the model \n",
    "from tensorflow.keras.metrics import Precision , Recall , CategoricalAccuracy"
   ]
  },
  {
   "cell_type": "code",
   "execution_count": 40,
   "id": "84d3bbef",
   "metadata": {},
   "outputs": [],
   "source": [
    "pre = Precision()\n",
    "re = Recall()\n",
    "acc = CategoricalAccuracy() "
   ]
  },
  {
   "cell_type": "code",
   "execution_count": 30,
   "id": "cdad5466",
   "metadata": {},
   "outputs": [],
   "source": [
    "for batch in test.as_numpy_iterator():\n",
    "    X_true , y_true = batch\n",
    "    yhat = model.predict(X_true)\n",
    "    \n",
    "    y_true = y_true.flatten()\n",
    "    \n",
    "    yhat = yhat.flatten()\n",
    "    \n",
    "    pre.update_state(y_true, yhat)\n",
    "    re.update_state(y_true, yhat)\n",
    "    acc.update_state(y_true, yhat)"
   ]
  },
  {
   "cell_type": "code",
   "execution_count": 25,
   "id": "726d8691",
   "metadata": {},
   "outputs": [],
   "source": [
    " print(f'Precision: {pre.result().numpy()}, Recall: {re.result().numpy()},Accuracy:{acc.result().numpy()}')"
   ]
  },
  {
   "cell_type": "markdown",
   "id": "e5431e4f",
   "metadata": {},
   "source": [
    "**Using gradio interface to test our model:**"
   ]
  },
  {
   "cell_type": "code",
   "execution_count": 34,
   "id": "44b5597e",
   "metadata": {},
   "outputs": [],
   "source": [
    "import gradio as gr"
   ]
  },
  {
   "cell_type": "code",
   "execution_count": 35,
   "id": "a565e281",
   "metadata": {},
   "outputs": [],
   "source": [
    "model.save('Toxicity.h5')"
   ]
  },
  {
   "cell_type": "code",
   "execution_count": 36,
   "id": "163b6843",
   "metadata": {},
   "outputs": [],
   "source": [
    "#if we want to reload our model \n",
    "model1 = tf.keras.models.load_model('Toxicity.h5')"
   ]
  },
  {
   "cell_type": "code",
   "execution_count": 38,
   "id": "9cd3d50d",
   "metadata": {},
   "outputs": [
    {
     "name": "stdout",
     "output_type": "stream",
     "text": [
      "1/1 [==============================] - 1s 943ms/step\n",
      "[[0.5021187  0.49650365 0.5017468  0.49797675 0.50047195 0.4979084 ]]\n"
     ]
    }
   ],
   "source": [
    "#simple test of our imported model \n",
    "input_str = vectorizer('I hate you')\n",
    "res = model1.predict(np.expand_dims(input_str,0))\n",
    "print(res)"
   ]
  },
  {
   "cell_type": "code",
   "execution_count": 39,
   "id": "c87ebd7e",
   "metadata": {},
   "outputs": [
    {
     "data": {
      "text/plain": [
       "Index(['toxic', 'severe_toxic', 'obscene', 'threat', 'insult',\n",
       "       'identity_hate'],\n",
       "      dtype='object')"
      ]
     },
     "execution_count": 39,
     "metadata": {},
     "output_type": "execute_result"
    }
   ],
   "source": [
    "#Just to compare values with columns \n",
    "df.columns[2:]"
   ]
  },
  {
   "cell_type": "code",
   "execution_count": 40,
   "id": "bb5f5e0c",
   "metadata": {},
   "outputs": [],
   "source": [
    "def score_comment(comment):\n",
    "    vectorized_comment = vectorizer([comment])\n",
    "    results = model1.predict(vectorized_comment)\n",
    "    \n",
    "    \n",
    "    text = ''\n",
    "    \n",
    "    for idx , col in enumerate(df.columns[2:]):\n",
    "        text+= '{}: {}\\n'.format(col,results[0][idx]>0.5)\n",
    "    return text "
   ]
  },
  {
   "cell_type": "code",
   "execution_count": 42,
   "id": "1fe52630",
   "metadata": {},
   "outputs": [
    {
     "name": "stdout",
     "output_type": "stream",
     "text": [
      "IMPORTANT: You are using gradio version 3.9.1, however version 3.14.0 is available, please upgrade.\n",
      "--------\n"
     ]
    }
   ],
   "source": [
    "#Create our inerface to use it in gradio for a good user experience \n",
    "interface = gr.Interface(fn = score_comment,\n",
    "                        inputs = gr.inputs.Textbox(lines =2, placeholder = 'Say something to Houssem in english please ! '),\n",
    "                        outputs = 'text')\n"
   ]
  },
  {
   "cell_type": "code",
   "execution_count": 43,
   "id": "31e9006c",
   "metadata": {},
   "outputs": [
    {
     "name": "stdout",
     "output_type": "stream",
     "text": [
      "Running on local URL:  http://127.0.0.1:7860\n",
      "Running on public URL: https://9903f51cef4d0b00.gradio.app\n",
      "\n",
      "This share link expires in 72 hours. For free permanent hosting and GPU upgrades (NEW!), check out Spaces: https://huggingface.co/spaces\n"
     ]
    },
    {
     "data": {
      "text/html": [
       "<div><iframe src=\"https://9903f51cef4d0b00.gradio.app\" width=\"100%\" height=\"500\" allow=\"autoplay; camera; microphone; clipboard-read; clipboard-write;\" frameborder=\"0\" allowfullscreen></iframe></div>"
      ],
      "text/plain": [
       "<IPython.core.display.HTML object>"
      ]
     },
     "metadata": {},
     "output_type": "display_data"
    },
    {
     "data": {
      "text/plain": [
       "(<gradio.routes.App at 0x24b4e344490>,\n",
       " 'http://127.0.0.1:7860/',\n",
       " 'https://9903f51cef4d0b00.gradio.app')"
      ]
     },
     "execution_count": 43,
     "metadata": {},
     "output_type": "execute_result"
    },
    {
     "name": "stdout",
     "output_type": "stream",
     "text": [
      "1/1 [==============================] - 0s 108ms/step\n",
      "1/1 [==============================] - 0s 121ms/step\n"
     ]
    }
   ],
   "source": [
    "interface.launch(share =True) "
   ]
  },
  {
   "cell_type": "code",
   "execution_count": null,
   "id": "bce01cf4",
   "metadata": {},
   "outputs": [],
   "source": []
  }
 ],
 "metadata": {
  "kernelspec": {
   "display_name": "Python 3 (ipykernel)",
   "language": "python",
   "name": "python3"
  },
  "language_info": {
   "codemirror_mode": {
    "name": "ipython",
    "version": 3
   },
   "file_extension": ".py",
   "mimetype": "text/x-python",
   "name": "python",
   "nbconvert_exporter": "python",
   "pygments_lexer": "ipython3",
   "version": "3.8.1"
  },
  "vscode": {
   "interpreter": {
    "hash": "cd4327f12e2aeb375ba3fac70bdf9c2bfa8ce32169e23abba3acb3b2648902a5"
   }
  }
 },
 "nbformat": 4,
 "nbformat_minor": 5
}
